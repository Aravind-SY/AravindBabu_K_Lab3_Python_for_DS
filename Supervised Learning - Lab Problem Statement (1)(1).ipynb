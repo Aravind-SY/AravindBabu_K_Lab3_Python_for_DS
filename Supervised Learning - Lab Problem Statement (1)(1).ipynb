{
 "cells": [
  {
   "cell_type": "markdown",
   "id": "fcbd582c",
   "metadata": {
    "id": "fcbd582c"
   },
   "source": [
    "## Learning Outcomes\n",
    "- Exploratory data analysis & preparing the data for model building. \n",
    "- Machine Learning - Supervised Learning Classification\n",
    "  - Logistic Regression\n",
    "  - Naive bayes Classifier\n",
    "  - KNN Classifier\n",
    "  - Decision Tree Classifier\n",
    "  - Random Forest Classifier\n",
    "  - Ensemble methods\n",
    "- Training and making predictions using different classification models.\n",
    "- Model evaluation"
   ]
  },
  {
   "cell_type": "markdown",
   "id": "f2e961f9",
   "metadata": {
    "id": "f2e961f9"
   },
   "source": [
    "## Objective: \n",
    "- The Classification goal is to predict “heart disease” in a person with regards to different factors given. \n",
    "\n",
    "## Context:\n",
    "- Heart disease is one of the leading causes of death for people of most races in the US. At least 1 of 3 key risk factors for heart disease: high blood pressure, high cholesterol, and smoking. \n",
    "- Detecting and preventing the factors that have the greatest impact on heart disease is very important in healthcare. Machine learning methods may detect \"patterns\" from the data and can predict whether a patient is suffering from any heart disease or not..\n",
    "\n",
    "## Dataset Information\n",
    "\n",
    "#### Source: https://www.kaggle.com/datasets/kamilpytlak/personal-key-indicators-of-heart-disease?datasetId=1936563&sortBy=voteCount\n",
    "Originally, the dataset come from the CDC and is a major part of the Behavioral Risk Factor Surveillance System (BRFSS), which conducts annual telephone surveys to gather data on the health status of U.S. residents. \n",
    "\n",
    "This dataset consists of eighteen columns\n",
    "- HeartDisease: Respondents that have ever reported having coronary heart disease (CHD) or myocardial infarction (MI)\n",
    "- BMI: Body Mass Index (BMI)\n",
    "- Smoking: smoked at least 100 cigarettes in your entire life\n",
    "- AlcoholDrinking: Heavy drinkers (adult men having more than 14 drinks per week and adult women having more than 7 drinks per week\n",
    "- Stroke:Ever had a stroke?\n",
    "- PhysicalHealth: physical health, which includes physical illness and injury\n",
    "- MentalHealth: for how many days during the past 30 days was your mental health not good?\n",
    "- DiffWalking: Do you have serious difficulty walking or climbing stairs?\n",
    "- Sex: male or female?\n",
    "- AgeCategory: Fourteen-level age category\n",
    "- Race: Imputed race/ethnicity value\n",
    "- Diabetic: diabetes?\n",
    "- PhysicalActivity: Adults who reported doing physical activity or exercise during the past 30 days other than their regular job\n",
    "- GenHealth: Would you say that in general your health is good, fine or excellent?\n",
    "- SleepTime: On average, how many hours of sleep do you get in a 24-hour period?\n",
    "- Asthma: you had asthma?\n",
    "- KidneyDisease: Not including kidney stones, bladder infection or incontinence, were you ever told you had kidney disease?\n",
    "- SkinCancer: Ever had skin cancer?"
   ]
  },
  {
   "cell_type": "markdown",
   "id": "f8617014",
   "metadata": {
    "id": "f8617014"
   },
   "source": [
    "### 1. Importing Libraries"
   ]
  },
  {
   "cell_type": "code",
   "execution_count": 1,
   "id": "c7172d3b",
   "metadata": {
    "id": "c7172d3b"
   },
   "outputs": [],
   "source": [
    "import numpy as np \n",
    "import pandas as pd \n",
    "import matplotlib.pyplot as plt\n",
    "import seaborn as sns\n",
    "import sklearn\n",
    "from sklearn.model_selection import train_test_split\n",
    "from sklearn.preprocessing import StandardScaler\n",
    "\n",
    "import warnings\n",
    "warnings.filterwarnings('ignore')\n",
    "\n",
    "from sklearn.metrics import accuracy_score\n",
    "from sklearn.linear_model import LogisticRegression\n",
    "from sklearn.naive_bayes import GaussianNB\n",
    "from sklearn.neighbors import KNeighborsClassifier\n",
    "from sklearn.tree import DecisionTreeClassifier\n",
    "from sklearn.ensemble import RandomForestClassifier, BaggingClassifier, AdaBoostClassifier, GradientBoostingClassifier\n",
    "from sklearn.ensemble import StackingClassifier"
   ]
  },
  {
   "cell_type": "markdown",
   "id": "8fe1a778",
   "metadata": {
    "id": "8fe1a778"
   },
   "source": [
    "### 2. Load the dataset and display a sample of five rows of the data frame."
   ]
  },
  {
   "cell_type": "code",
   "execution_count": 2,
   "id": "70984f5f",
   "metadata": {
    "id": "70984f5f"
   },
   "outputs": [
    {
     "data": {
      "text/html": [
       "<div>\n",
       "<style scoped>\n",
       "    .dataframe tbody tr th:only-of-type {\n",
       "        vertical-align: middle;\n",
       "    }\n",
       "\n",
       "    .dataframe tbody tr th {\n",
       "        vertical-align: top;\n",
       "    }\n",
       "\n",
       "    .dataframe thead th {\n",
       "        text-align: right;\n",
       "    }\n",
       "</style>\n",
       "<table border=\"1\" class=\"dataframe\">\n",
       "  <thead>\n",
       "    <tr style=\"text-align: right;\">\n",
       "      <th></th>\n",
       "      <th>HeartDisease</th>\n",
       "      <th>BMI</th>\n",
       "      <th>Smoking</th>\n",
       "      <th>AlcoholDrinking</th>\n",
       "      <th>Stroke</th>\n",
       "      <th>PhysicalHealth</th>\n",
       "      <th>MentalHealth</th>\n",
       "      <th>DiffWalking</th>\n",
       "      <th>Sex</th>\n",
       "      <th>AgeCategory</th>\n",
       "      <th>Race</th>\n",
       "      <th>Diabetic</th>\n",
       "      <th>PhysicalActivity</th>\n",
       "      <th>GenHealth</th>\n",
       "      <th>SleepTime</th>\n",
       "      <th>Asthma</th>\n",
       "      <th>KidneyDisease</th>\n",
       "      <th>SkinCancer</th>\n",
       "    </tr>\n",
       "  </thead>\n",
       "  <tbody>\n",
       "    <tr>\n",
       "      <th>0</th>\n",
       "      <td>No</td>\n",
       "      <td>16.60</td>\n",
       "      <td>Yes</td>\n",
       "      <td>No</td>\n",
       "      <td>No</td>\n",
       "      <td>3.0</td>\n",
       "      <td>30.0</td>\n",
       "      <td>No</td>\n",
       "      <td>Female</td>\n",
       "      <td>55-59</td>\n",
       "      <td>White</td>\n",
       "      <td>Yes</td>\n",
       "      <td>Yes</td>\n",
       "      <td>Very good</td>\n",
       "      <td>5.0</td>\n",
       "      <td>Yes</td>\n",
       "      <td>No</td>\n",
       "      <td>Yes</td>\n",
       "    </tr>\n",
       "    <tr>\n",
       "      <th>1</th>\n",
       "      <td>No</td>\n",
       "      <td>20.34</td>\n",
       "      <td>No</td>\n",
       "      <td>No</td>\n",
       "      <td>Yes</td>\n",
       "      <td>0.0</td>\n",
       "      <td>0.0</td>\n",
       "      <td>No</td>\n",
       "      <td>Female</td>\n",
       "      <td>80 or older</td>\n",
       "      <td>White</td>\n",
       "      <td>No</td>\n",
       "      <td>Yes</td>\n",
       "      <td>Very good</td>\n",
       "      <td>7.0</td>\n",
       "      <td>No</td>\n",
       "      <td>No</td>\n",
       "      <td>No</td>\n",
       "    </tr>\n",
       "    <tr>\n",
       "      <th>2</th>\n",
       "      <td>No</td>\n",
       "      <td>26.58</td>\n",
       "      <td>Yes</td>\n",
       "      <td>No</td>\n",
       "      <td>No</td>\n",
       "      <td>20.0</td>\n",
       "      <td>30.0</td>\n",
       "      <td>No</td>\n",
       "      <td>Male</td>\n",
       "      <td>65-69</td>\n",
       "      <td>White</td>\n",
       "      <td>Yes</td>\n",
       "      <td>Yes</td>\n",
       "      <td>Fair</td>\n",
       "      <td>8.0</td>\n",
       "      <td>Yes</td>\n",
       "      <td>No</td>\n",
       "      <td>No</td>\n",
       "    </tr>\n",
       "    <tr>\n",
       "      <th>3</th>\n",
       "      <td>No</td>\n",
       "      <td>24.21</td>\n",
       "      <td>No</td>\n",
       "      <td>No</td>\n",
       "      <td>No</td>\n",
       "      <td>0.0</td>\n",
       "      <td>0.0</td>\n",
       "      <td>No</td>\n",
       "      <td>Female</td>\n",
       "      <td>75-79</td>\n",
       "      <td>White</td>\n",
       "      <td>No</td>\n",
       "      <td>No</td>\n",
       "      <td>Good</td>\n",
       "      <td>6.0</td>\n",
       "      <td>No</td>\n",
       "      <td>No</td>\n",
       "      <td>Yes</td>\n",
       "    </tr>\n",
       "    <tr>\n",
       "      <th>4</th>\n",
       "      <td>No</td>\n",
       "      <td>23.71</td>\n",
       "      <td>No</td>\n",
       "      <td>No</td>\n",
       "      <td>No</td>\n",
       "      <td>28.0</td>\n",
       "      <td>0.0</td>\n",
       "      <td>Yes</td>\n",
       "      <td>Female</td>\n",
       "      <td>40-44</td>\n",
       "      <td>White</td>\n",
       "      <td>No</td>\n",
       "      <td>Yes</td>\n",
       "      <td>Very good</td>\n",
       "      <td>8.0</td>\n",
       "      <td>No</td>\n",
       "      <td>No</td>\n",
       "      <td>No</td>\n",
       "    </tr>\n",
       "  </tbody>\n",
       "</table>\n",
       "</div>"
      ],
      "text/plain": [
       "  HeartDisease    BMI Smoking AlcoholDrinking Stroke  PhysicalHealth  \\\n",
       "0           No  16.60     Yes              No     No             3.0   \n",
       "1           No  20.34      No              No    Yes             0.0   \n",
       "2           No  26.58     Yes              No     No            20.0   \n",
       "3           No  24.21      No              No     No             0.0   \n",
       "4           No  23.71      No              No     No            28.0   \n",
       "\n",
       "   MentalHealth DiffWalking     Sex  AgeCategory   Race Diabetic  \\\n",
       "0          30.0          No  Female        55-59  White      Yes   \n",
       "1           0.0          No  Female  80 or older  White       No   \n",
       "2          30.0          No    Male        65-69  White      Yes   \n",
       "3           0.0          No  Female        75-79  White       No   \n",
       "4           0.0         Yes  Female        40-44  White       No   \n",
       "\n",
       "  PhysicalActivity  GenHealth  SleepTime Asthma KidneyDisease SkinCancer  \n",
       "0              Yes  Very good        5.0    Yes            No        Yes  \n",
       "1              Yes  Very good        7.0     No            No         No  \n",
       "2              Yes       Fair        8.0    Yes            No         No  \n",
       "3               No       Good        6.0     No            No        Yes  \n",
       "4              Yes  Very good        8.0     No            No         No  "
      ]
     },
     "execution_count": 2,
     "metadata": {},
     "output_type": "execute_result"
    }
   ],
   "source": [
    "df = pd.read_csv('heart_2020_cleaned.csv')\n",
    "df.head()"
   ]
  },
  {
   "cell_type": "markdown",
   "id": "eda763be",
   "metadata": {
    "id": "eda763be"
   },
   "source": [
    "### 3. Check the shape of the data (number of rows and columns). Check the general information about the dataframe using the .info() method."
   ]
  },
  {
   "cell_type": "code",
   "execution_count": 6,
   "id": "c246297d",
   "metadata": {
    "id": "c246297d"
   },
   "outputs": [
    {
     "data": {
      "text/plain": [
       "(319795, 18)"
      ]
     },
     "execution_count": 6,
     "metadata": {},
     "output_type": "execute_result"
    }
   ],
   "source": [
    "df.shape"
   ]
  },
  {
   "cell_type": "markdown",
   "id": "b8470476",
   "metadata": {
    "id": "b8470476"
   },
   "source": [
    "### 4. Check the statistical summary of the dataset and write your inferences."
   ]
  },
  {
   "cell_type": "code",
   "execution_count": 7,
   "id": "b28786f2",
   "metadata": {
    "id": "b28786f2"
   },
   "outputs": [
    {
     "name": "stdout",
     "output_type": "stream",
     "text": [
      "<class 'pandas.core.frame.DataFrame'>\n",
      "RangeIndex: 319795 entries, 0 to 319794\n",
      "Data columns (total 18 columns):\n",
      " #   Column            Non-Null Count   Dtype  \n",
      "---  ------            --------------   -----  \n",
      " 0   HeartDisease      319795 non-null  object \n",
      " 1   BMI               319795 non-null  float64\n",
      " 2   Smoking           319795 non-null  object \n",
      " 3   AlcoholDrinking   319795 non-null  object \n",
      " 4   Stroke            319795 non-null  object \n",
      " 5   PhysicalHealth    319795 non-null  float64\n",
      " 6   MentalHealth      319795 non-null  float64\n",
      " 7   DiffWalking       319795 non-null  object \n",
      " 8   Sex               319795 non-null  object \n",
      " 9   AgeCategory       319795 non-null  object \n",
      " 10  Race              319795 non-null  object \n",
      " 11  Diabetic          319795 non-null  object \n",
      " 12  PhysicalActivity  319795 non-null  object \n",
      " 13  GenHealth         319795 non-null  object \n",
      " 14  SleepTime         319795 non-null  float64\n",
      " 15  Asthma            319795 non-null  object \n",
      " 16  KidneyDisease     319795 non-null  object \n",
      " 17  SkinCancer        319795 non-null  object \n",
      "dtypes: float64(4), object(14)\n",
      "memory usage: 43.9+ MB\n"
     ]
    }
   ],
   "source": [
    "df.info()"
   ]
  },
  {
   "cell_type": "markdown",
   "id": "25d21a69",
   "metadata": {
    "id": "25d21a69"
   },
   "source": [
    "### 5. Check the percentage of missing values in each column of the data frame. Drop the missing values if there are any."
   ]
  },
  {
   "cell_type": "code",
   "execution_count": 9,
   "id": "20d33888",
   "metadata": {
    "id": "20d33888"
   },
   "outputs": [
    {
     "data": {
      "text/plain": [
       "HeartDisease        0\n",
       "BMI                 0\n",
       "Smoking             0\n",
       "AlcoholDrinking     0\n",
       "Stroke              0\n",
       "PhysicalHealth      0\n",
       "MentalHealth        0\n",
       "DiffWalking         0\n",
       "Sex                 0\n",
       "AgeCategory         0\n",
       "Race                0\n",
       "Diabetic            0\n",
       "PhysicalActivity    0\n",
       "GenHealth           0\n",
       "SleepTime           0\n",
       "Asthma              0\n",
       "KidneyDisease       0\n",
       "SkinCancer          0\n",
       "dtype: int64"
      ]
     },
     "execution_count": 9,
     "metadata": {},
     "output_type": "execute_result"
    }
   ],
   "source": [
    "df.isnull().sum()"
   ]
  },
  {
   "cell_type": "markdown",
   "id": "030b4016",
   "metadata": {
    "id": "030b4016"
   },
   "source": [
    "### 6. Check if there are any duplicate rows. If any drop them and check the shape of the dataframe after dropping duplicates."
   ]
  },
  {
   "cell_type": "code",
   "execution_count": 11,
   "id": "11f42ddc",
   "metadata": {
    "id": "11f42ddc"
   },
   "outputs": [
    {
     "data": {
      "text/html": [
       "<div>\n",
       "<style scoped>\n",
       "    .dataframe tbody tr th:only-of-type {\n",
       "        vertical-align: middle;\n",
       "    }\n",
       "\n",
       "    .dataframe tbody tr th {\n",
       "        vertical-align: top;\n",
       "    }\n",
       "\n",
       "    .dataframe thead th {\n",
       "        text-align: right;\n",
       "    }\n",
       "</style>\n",
       "<table border=\"1\" class=\"dataframe\">\n",
       "  <thead>\n",
       "    <tr style=\"text-align: right;\">\n",
       "      <th></th>\n",
       "      <th>HeartDisease</th>\n",
       "      <th>BMI</th>\n",
       "      <th>Smoking</th>\n",
       "      <th>AlcoholDrinking</th>\n",
       "      <th>Stroke</th>\n",
       "      <th>PhysicalHealth</th>\n",
       "      <th>MentalHealth</th>\n",
       "      <th>DiffWalking</th>\n",
       "      <th>Sex</th>\n",
       "      <th>AgeCategory</th>\n",
       "      <th>Race</th>\n",
       "      <th>Diabetic</th>\n",
       "      <th>PhysicalActivity</th>\n",
       "      <th>GenHealth</th>\n",
       "      <th>SleepTime</th>\n",
       "      <th>Asthma</th>\n",
       "      <th>KidneyDisease</th>\n",
       "      <th>SkinCancer</th>\n",
       "    </tr>\n",
       "  </thead>\n",
       "  <tbody>\n",
       "    <tr>\n",
       "      <th>2182</th>\n",
       "      <td>No</td>\n",
       "      <td>19.85</td>\n",
       "      <td>No</td>\n",
       "      <td>No</td>\n",
       "      <td>No</td>\n",
       "      <td>0.0</td>\n",
       "      <td>0.0</td>\n",
       "      <td>No</td>\n",
       "      <td>Female</td>\n",
       "      <td>80 or older</td>\n",
       "      <td>White</td>\n",
       "      <td>No</td>\n",
       "      <td>Yes</td>\n",
       "      <td>Excellent</td>\n",
       "      <td>7.0</td>\n",
       "      <td>No</td>\n",
       "      <td>No</td>\n",
       "      <td>No</td>\n",
       "    </tr>\n",
       "    <tr>\n",
       "      <th>3182</th>\n",
       "      <td>No</td>\n",
       "      <td>28.19</td>\n",
       "      <td>No</td>\n",
       "      <td>No</td>\n",
       "      <td>No</td>\n",
       "      <td>0.0</td>\n",
       "      <td>0.0</td>\n",
       "      <td>No</td>\n",
       "      <td>Female</td>\n",
       "      <td>50-54</td>\n",
       "      <td>White</td>\n",
       "      <td>No</td>\n",
       "      <td>Yes</td>\n",
       "      <td>Excellent</td>\n",
       "      <td>7.0</td>\n",
       "      <td>No</td>\n",
       "      <td>No</td>\n",
       "      <td>No</td>\n",
       "    </tr>\n",
       "    <tr>\n",
       "      <th>3397</th>\n",
       "      <td>No</td>\n",
       "      <td>26.54</td>\n",
       "      <td>No</td>\n",
       "      <td>No</td>\n",
       "      <td>No</td>\n",
       "      <td>0.0</td>\n",
       "      <td>0.0</td>\n",
       "      <td>No</td>\n",
       "      <td>Male</td>\n",
       "      <td>45-49</td>\n",
       "      <td>White</td>\n",
       "      <td>No</td>\n",
       "      <td>Yes</td>\n",
       "      <td>Excellent</td>\n",
       "      <td>6.0</td>\n",
       "      <td>No</td>\n",
       "      <td>No</td>\n",
       "      <td>No</td>\n",
       "    </tr>\n",
       "    <tr>\n",
       "      <th>3650</th>\n",
       "      <td>No</td>\n",
       "      <td>32.89</td>\n",
       "      <td>Yes</td>\n",
       "      <td>No</td>\n",
       "      <td>No</td>\n",
       "      <td>2.0</td>\n",
       "      <td>1.0</td>\n",
       "      <td>No</td>\n",
       "      <td>Female</td>\n",
       "      <td>50-54</td>\n",
       "      <td>White</td>\n",
       "      <td>No</td>\n",
       "      <td>Yes</td>\n",
       "      <td>Good</td>\n",
       "      <td>9.0</td>\n",
       "      <td>No</td>\n",
       "      <td>No</td>\n",
       "      <td>No</td>\n",
       "    </tr>\n",
       "    <tr>\n",
       "      <th>4061</th>\n",
       "      <td>No</td>\n",
       "      <td>25.84</td>\n",
       "      <td>No</td>\n",
       "      <td>No</td>\n",
       "      <td>No</td>\n",
       "      <td>0.0</td>\n",
       "      <td>0.0</td>\n",
       "      <td>No</td>\n",
       "      <td>Female</td>\n",
       "      <td>40-44</td>\n",
       "      <td>White</td>\n",
       "      <td>No</td>\n",
       "      <td>Yes</td>\n",
       "      <td>Excellent</td>\n",
       "      <td>8.0</td>\n",
       "      <td>No</td>\n",
       "      <td>No</td>\n",
       "      <td>No</td>\n",
       "    </tr>\n",
       "    <tr>\n",
       "      <th>...</th>\n",
       "      <td>...</td>\n",
       "      <td>...</td>\n",
       "      <td>...</td>\n",
       "      <td>...</td>\n",
       "      <td>...</td>\n",
       "      <td>...</td>\n",
       "      <td>...</td>\n",
       "      <td>...</td>\n",
       "      <td>...</td>\n",
       "      <td>...</td>\n",
       "      <td>...</td>\n",
       "      <td>...</td>\n",
       "      <td>...</td>\n",
       "      <td>...</td>\n",
       "      <td>...</td>\n",
       "      <td>...</td>\n",
       "      <td>...</td>\n",
       "      <td>...</td>\n",
       "    </tr>\n",
       "    <tr>\n",
       "      <th>319671</th>\n",
       "      <td>No</td>\n",
       "      <td>25.06</td>\n",
       "      <td>No</td>\n",
       "      <td>No</td>\n",
       "      <td>No</td>\n",
       "      <td>0.0</td>\n",
       "      <td>0.0</td>\n",
       "      <td>No</td>\n",
       "      <td>Male</td>\n",
       "      <td>40-44</td>\n",
       "      <td>Hispanic</td>\n",
       "      <td>No</td>\n",
       "      <td>Yes</td>\n",
       "      <td>Excellent</td>\n",
       "      <td>7.0</td>\n",
       "      <td>No</td>\n",
       "      <td>No</td>\n",
       "      <td>No</td>\n",
       "    </tr>\n",
       "    <tr>\n",
       "      <th>319689</th>\n",
       "      <td>No</td>\n",
       "      <td>27.44</td>\n",
       "      <td>No</td>\n",
       "      <td>No</td>\n",
       "      <td>No</td>\n",
       "      <td>0.0</td>\n",
       "      <td>0.0</td>\n",
       "      <td>No</td>\n",
       "      <td>Female</td>\n",
       "      <td>30-34</td>\n",
       "      <td>Hispanic</td>\n",
       "      <td>No</td>\n",
       "      <td>Yes</td>\n",
       "      <td>Very good</td>\n",
       "      <td>6.0</td>\n",
       "      <td>No</td>\n",
       "      <td>No</td>\n",
       "      <td>No</td>\n",
       "    </tr>\n",
       "    <tr>\n",
       "      <th>319726</th>\n",
       "      <td>No</td>\n",
       "      <td>30.41</td>\n",
       "      <td>No</td>\n",
       "      <td>No</td>\n",
       "      <td>No</td>\n",
       "      <td>0.0</td>\n",
       "      <td>0.0</td>\n",
       "      <td>No</td>\n",
       "      <td>Male</td>\n",
       "      <td>18-24</td>\n",
       "      <td>Hispanic</td>\n",
       "      <td>No</td>\n",
       "      <td>Yes</td>\n",
       "      <td>Excellent</td>\n",
       "      <td>7.0</td>\n",
       "      <td>No</td>\n",
       "      <td>No</td>\n",
       "      <td>No</td>\n",
       "    </tr>\n",
       "    <tr>\n",
       "      <th>319751</th>\n",
       "      <td>No</td>\n",
       "      <td>34.96</td>\n",
       "      <td>No</td>\n",
       "      <td>No</td>\n",
       "      <td>No</td>\n",
       "      <td>0.0</td>\n",
       "      <td>0.0</td>\n",
       "      <td>No</td>\n",
       "      <td>Male</td>\n",
       "      <td>18-24</td>\n",
       "      <td>Hispanic</td>\n",
       "      <td>No</td>\n",
       "      <td>Yes</td>\n",
       "      <td>Excellent</td>\n",
       "      <td>6.0</td>\n",
       "      <td>No</td>\n",
       "      <td>No</td>\n",
       "      <td>No</td>\n",
       "    </tr>\n",
       "    <tr>\n",
       "      <th>319776</th>\n",
       "      <td>No</td>\n",
       "      <td>27.98</td>\n",
       "      <td>No</td>\n",
       "      <td>No</td>\n",
       "      <td>No</td>\n",
       "      <td>0.0</td>\n",
       "      <td>0.0</td>\n",
       "      <td>No</td>\n",
       "      <td>Female</td>\n",
       "      <td>50-54</td>\n",
       "      <td>Hispanic</td>\n",
       "      <td>No</td>\n",
       "      <td>No</td>\n",
       "      <td>Good</td>\n",
       "      <td>8.0</td>\n",
       "      <td>No</td>\n",
       "      <td>No</td>\n",
       "      <td>No</td>\n",
       "    </tr>\n",
       "  </tbody>\n",
       "</table>\n",
       "<p>18078 rows × 18 columns</p>\n",
       "</div>"
      ],
      "text/plain": [
       "       HeartDisease    BMI Smoking AlcoholDrinking Stroke  PhysicalHealth  \\\n",
       "2182             No  19.85      No              No     No             0.0   \n",
       "3182             No  28.19      No              No     No             0.0   \n",
       "3397             No  26.54      No              No     No             0.0   \n",
       "3650             No  32.89     Yes              No     No             2.0   \n",
       "4061             No  25.84      No              No     No             0.0   \n",
       "...             ...    ...     ...             ...    ...             ...   \n",
       "319671           No  25.06      No              No     No             0.0   \n",
       "319689           No  27.44      No              No     No             0.0   \n",
       "319726           No  30.41      No              No     No             0.0   \n",
       "319751           No  34.96      No              No     No             0.0   \n",
       "319776           No  27.98      No              No     No             0.0   \n",
       "\n",
       "        MentalHealth DiffWalking     Sex  AgeCategory      Race Diabetic  \\\n",
       "2182             0.0          No  Female  80 or older     White       No   \n",
       "3182             0.0          No  Female        50-54     White       No   \n",
       "3397             0.0          No    Male        45-49     White       No   \n",
       "3650             1.0          No  Female        50-54     White       No   \n",
       "4061             0.0          No  Female        40-44     White       No   \n",
       "...              ...         ...     ...          ...       ...      ...   \n",
       "319671           0.0          No    Male        40-44  Hispanic       No   \n",
       "319689           0.0          No  Female        30-34  Hispanic       No   \n",
       "319726           0.0          No    Male        18-24  Hispanic       No   \n",
       "319751           0.0          No    Male        18-24  Hispanic       No   \n",
       "319776           0.0          No  Female        50-54  Hispanic       No   \n",
       "\n",
       "       PhysicalActivity  GenHealth  SleepTime Asthma KidneyDisease SkinCancer  \n",
       "2182                Yes  Excellent        7.0     No            No         No  \n",
       "3182                Yes  Excellent        7.0     No            No         No  \n",
       "3397                Yes  Excellent        6.0     No            No         No  \n",
       "3650                Yes       Good        9.0     No            No         No  \n",
       "4061                Yes  Excellent        8.0     No            No         No  \n",
       "...                 ...        ...        ...    ...           ...        ...  \n",
       "319671              Yes  Excellent        7.0     No            No         No  \n",
       "319689              Yes  Very good        6.0     No            No         No  \n",
       "319726              Yes  Excellent        7.0     No            No         No  \n",
       "319751              Yes  Excellent        6.0     No            No         No  \n",
       "319776               No       Good        8.0     No            No         No  \n",
       "\n",
       "[18078 rows x 18 columns]"
      ]
     },
     "execution_count": 11,
     "metadata": {},
     "output_type": "execute_result"
    }
   ],
   "source": [
    "df[df.duplicated()]"
   ]
  },
  {
   "cell_type": "code",
   "execution_count": 12,
   "id": "7af2b168",
   "metadata": {},
   "outputs": [
    {
     "data": {
      "text/plain": [
       "(18078, 18)"
      ]
     },
     "execution_count": 12,
     "metadata": {},
     "output_type": "execute_result"
    }
   ],
   "source": [
    "df[df.duplicated()].shape"
   ]
  },
  {
   "cell_type": "code",
   "execution_count": 16,
   "id": "7a76a45c",
   "metadata": {},
   "outputs": [],
   "source": [
    "df2 = df.drop_duplicates()"
   ]
  },
  {
   "cell_type": "code",
   "execution_count": 17,
   "id": "73832465",
   "metadata": {},
   "outputs": [
    {
     "data": {
      "text/plain": [
       "(301717, 18)"
      ]
     },
     "execution_count": 17,
     "metadata": {},
     "output_type": "execute_result"
    }
   ],
   "source": [
    "df2.shape"
   ]
  },
  {
   "cell_type": "markdown",
   "id": "817d0f41",
   "metadata": {
    "id": "817d0f41"
   },
   "source": [
    "### 7. Check the distribution of the target variable (i.e. 'HeartDisease') and write your observations."
   ]
  },
  {
   "cell_type": "code",
   "execution_count": 18,
   "id": "62d1e2b3",
   "metadata": {
    "id": "62d1e2b3"
   },
   "outputs": [
    {
     "data": {
      "image/png": "[encoded data removed]",
      "text/plain": [
       "<Figure size 640x480 with 1 Axes>"
      ]
     },
     "metadata": {},
     "output_type": "display_data"
    }
   ],
   "source": [
    "df2['HeartDisease'].value_counts().plot(kind='pie',autopct='%1.0f%%')\n",
    "plt.show()"
   ]
  },
  {
   "cell_type": "markdown",
   "id": "1cd33e88",
   "metadata": {
    "id": "1cd33e88"
   },
   "source": [
    "### 8. Visualize the distribution of the target column 'Heart disease' with respect to various categorical features and write your observations."
   ]
  },
  {
   "cell_type": "code",
   "execution_count": 22,
   "id": "888be5c5",
   "metadata": {
    "id": "888be5c5"
   },
   "outputs": [
    {
     "data": {
      "text/plain": [
       "Index(['HeartDisease', 'Smoking', 'AlcoholDrinking', 'Stroke', 'DiffWalking',\n",
       "       'Sex', 'AgeCategory', 'Race', 'Diabetic', 'PhysicalActivity',\n",
       "       'GenHealth', 'Asthma', 'KidneyDisease', 'SkinCancer'],\n",
       "      dtype='object')"
      ]
     },
     "execution_count": 22,
     "metadata": {},
     "output_type": "execute_result"
    }
   ],
   "source": [
    "cat_features = df.select_dtypes(include='O')\n",
    "cat_features.columns"
   ]
  },
  {
   "cell_type": "code",
   "execution_count": 25,
   "id": "bc614012",
   "metadata": {},
   "outputs": [
    {
     "data": {
      "image/png": "[encoded data removed]",
      "text/plain": [
       "<Figure size 3000x2500 with 14 Axes>"
      ]
     },
     "metadata": {},
     "output_type": "display_data"
    }
   ],
   "source": [
    "i=1\n",
    "plt.figure(figsize=(30, 25))\n",
    "for feature in cat_features:\n",
    "    plt.subplot(5, 3, i)\n",
    "    sns.countplot(x=feature, hue='HeartDisease', data=df)\n",
    "    i+=1"
   ]
  },
  {
   "cell_type": "markdown",
   "id": "11af76b7",
   "metadata": {
    "id": "11af76b7"
   },
   "source": [
    "### 9. Check the unique categories in the column 'Diabetic'. Replace 'Yes (during pregnancy)' as 'Yes' and 'No, borderline diabetes' as 'No'."
   ]
  },
  {
   "cell_type": "code",
   "execution_count": 26,
   "id": "86fccebe",
   "metadata": {
    "id": "86fccebe"
   },
   "outputs": [
    {
     "data": {
      "text/plain": [
       "array(['Yes', 'No', 'No, borderline diabetes', 'Yes (during pregnancy)'],\n",
       "      dtype=object)"
      ]
     },
     "execution_count": 26,
     "metadata": {},
     "output_type": "execute_result"
    }
   ],
   "source": [
    "df2['Diabetic'].unique()"
   ]
  },
  {
   "cell_type": "code",
   "execution_count": 27,
   "id": "e1e8b389",
   "metadata": {},
   "outputs": [],
   "source": [
    "df2['Diabetic'] = df2['Diabetic'].replace('Yes (during pregnancy)','Yes').replace('No, borderline diabetes','No')"
   ]
  },
  {
   "cell_type": "code",
   "execution_count": null,
   "id": "a230131b",
   "metadata": {},
   "outputs": [],
   "source": []
  },
  {
   "cell_type": "code",
   "execution_count": 28,
   "id": "90f543c8",
   "metadata": {},
   "outputs": [
    {
     "data": {
      "text/plain": [
       "array(['Yes', 'No'], dtype=object)"
      ]
     },
     "execution_count": 28,
     "metadata": {},
     "output_type": "execute_result"
    }
   ],
   "source": [
    "df2['Diabetic'].unique()"
   ]
  },
  {
   "cell_type": "markdown",
   "id": "e204cd08",
   "metadata": {
    "id": "e204cd08"
   },
   "source": [
    "### 10. For the target column 'HeartDiease', Replace 'No' as 0 and 'Yes' as 1. "
   ]
  },
  {
   "cell_type": "code",
   "execution_count": 29,
   "id": "6cd70dc2",
   "metadata": {},
   "outputs": [
    {
     "data": {
      "text/plain": [
       "array(['No', 'Yes'], dtype=object)"
      ]
     },
     "execution_count": 29,
     "metadata": {},
     "output_type": "execute_result"
    }
   ],
   "source": [
    "df2['HeartDisease'].unique()"
   ]
  },
  {
   "cell_type": "code",
   "execution_count": 30,
   "id": "22190734",
   "metadata": {
    "id": "22190734"
   },
   "outputs": [],
   "source": [
    "df2['HeartDisease'] = df2['HeartDisease'].replace('No',0).replace('Yes',1)"
   ]
  },
  {
   "cell_type": "code",
   "execution_count": 31,
   "id": "b69af9a8",
   "metadata": {},
   "outputs": [
    {
     "data": {
      "text/plain": [
       "array([0, 1], dtype=int64)"
      ]
     },
     "execution_count": 31,
     "metadata": {},
     "output_type": "execute_result"
    }
   ],
   "source": [
    "df2['HeartDisease'].unique()"
   ]
  },
  {
   "cell_type": "markdown",
   "id": "7cdb58cd",
   "metadata": {
    "id": "7cdb58cd"
   },
   "source": [
    "### 11. Label Encode the columns \"AgeCategory\", \"Race\", and \"GenHealth\". Encode the rest of the columns using dummy encoding approach."
   ]
  },
  {
   "cell_type": "code",
   "execution_count": 32,
   "id": "707747be",
   "metadata": {
    "id": "707747be"
   },
   "outputs": [],
   "source": [
    "from sklearn.preprocessing import LabelEncoder\n",
    "le = LabelEncoder()"
   ]
  },
  {
   "cell_type": "code",
   "execution_count": 33,
   "id": "fe7480b6",
   "metadata": {},
   "outputs": [],
   "source": [
    "df2.iloc[:,[9,10,13]] = df2.iloc[:,[9,10,13]].apply(le.fit_transform)"
   ]
  },
  {
   "cell_type": "code",
   "execution_count": 34,
   "id": "7a8436a1",
   "metadata": {},
   "outputs": [
    {
     "data": {
      "text/html": [
       "<div>\n",
       "<style scoped>\n",
       "    .dataframe tbody tr th:only-of-type {\n",
       "        vertical-align: middle;\n",
       "    }\n",
       "\n",
       "    .dataframe tbody tr th {\n",
       "        vertical-align: top;\n",
       "    }\n",
       "\n",
       "    .dataframe thead th {\n",
       "        text-align: right;\n",
       "    }\n",
       "</style>\n",
       "<table border=\"1\" class=\"dataframe\">\n",
       "  <thead>\n",
       "    <tr style=\"text-align: right;\">\n",
       "      <th></th>\n",
       "      <th>AgeCategory</th>\n",
       "      <th>Race</th>\n",
       "      <th>GenHealth</th>\n",
       "    </tr>\n",
       "  </thead>\n",
       "  <tbody>\n",
       "    <tr>\n",
       "      <th>0</th>\n",
       "      <td>7</td>\n",
       "      <td>5</td>\n",
       "      <td>4</td>\n",
       "    </tr>\n",
       "    <tr>\n",
       "      <th>1</th>\n",
       "      <td>12</td>\n",
       "      <td>5</td>\n",
       "      <td>4</td>\n",
       "    </tr>\n",
       "    <tr>\n",
       "      <th>2</th>\n",
       "      <td>9</td>\n",
       "      <td>5</td>\n",
       "      <td>1</td>\n",
       "    </tr>\n",
       "    <tr>\n",
       "      <th>3</th>\n",
       "      <td>11</td>\n",
       "      <td>5</td>\n",
       "      <td>2</td>\n",
       "    </tr>\n",
       "    <tr>\n",
       "      <th>4</th>\n",
       "      <td>4</td>\n",
       "      <td>5</td>\n",
       "      <td>4</td>\n",
       "    </tr>\n",
       "  </tbody>\n",
       "</table>\n",
       "</div>"
      ],
      "text/plain": [
       "   AgeCategory  Race  GenHealth\n",
       "0            7     5          4\n",
       "1           12     5          4\n",
       "2            9     5          1\n",
       "3           11     5          2\n",
       "4            4     5          4"
      ]
     },
     "execution_count": 34,
     "metadata": {},
     "output_type": "execute_result"
    }
   ],
   "source": [
    "df2.iloc[:,[9,10,13]].head()"
   ]
  },
  {
   "cell_type": "code",
   "execution_count": 35,
   "id": "40185d15",
   "metadata": {},
   "outputs": [],
   "source": [
    "cat_data =df2[['Smoking', 'AlcoholDrinking', 'Stroke', 'DiffWalking',\n",
    "       'Sex','Diabetic', 'PhysicalActivity', 'Asthma', 'KidneyDisease', 'SkinCancer']]\n",
    "cat_data = pd.get_dummies(cat_data,drop_first=True)"
   ]
  },
  {
   "cell_type": "code",
   "execution_count": 36,
   "id": "9c9fb6e5",
   "metadata": {},
   "outputs": [
    {
     "data": {
      "text/plain": [
       "(301717, 10)"
      ]
     },
     "execution_count": 36,
     "metadata": {},
     "output_type": "execute_result"
    }
   ],
   "source": [
    "cat_data.shape"
   ]
  },
  {
   "cell_type": "code",
   "execution_count": 43,
   "id": "38f970f6",
   "metadata": {},
   "outputs": [
    {
     "data": {
      "text/html": [
       "<div>\n",
       "<style scoped>\n",
       "    .dataframe tbody tr th:only-of-type {\n",
       "        vertical-align: middle;\n",
       "    }\n",
       "\n",
       "    .dataframe tbody tr th {\n",
       "        vertical-align: top;\n",
       "    }\n",
       "\n",
       "    .dataframe thead th {\n",
       "        text-align: right;\n",
       "    }\n",
       "</style>\n",
       "<table border=\"1\" class=\"dataframe\">\n",
       "  <thead>\n",
       "    <tr style=\"text-align: right;\">\n",
       "      <th></th>\n",
       "      <th>Smoking_Yes</th>\n",
       "      <th>AlcoholDrinking_Yes</th>\n",
       "      <th>Stroke_Yes</th>\n",
       "      <th>DiffWalking_Yes</th>\n",
       "      <th>Sex_Male</th>\n",
       "      <th>Diabetic_Yes</th>\n",
       "      <th>PhysicalActivity_Yes</th>\n",
       "      <th>Asthma_Yes</th>\n",
       "      <th>KidneyDisease_Yes</th>\n",
       "      <th>SkinCancer_Yes</th>\n",
       "    </tr>\n",
       "  </thead>\n",
       "  <tbody>\n",
       "    <tr>\n",
       "      <th>0</th>\n",
       "      <td>1</td>\n",
       "      <td>0</td>\n",
       "      <td>0</td>\n",
       "      <td>0</td>\n",
       "      <td>0</td>\n",
       "      <td>1</td>\n",
       "      <td>1</td>\n",
       "      <td>1</td>\n",
       "      <td>0</td>\n",
       "      <td>1</td>\n",
       "    </tr>\n",
       "    <tr>\n",
       "      <th>1</th>\n",
       "      <td>0</td>\n",
       "      <td>0</td>\n",
       "      <td>1</td>\n",
       "      <td>0</td>\n",
       "      <td>0</td>\n",
       "      <td>0</td>\n",
       "      <td>1</td>\n",
       "      <td>0</td>\n",
       "      <td>0</td>\n",
       "      <td>0</td>\n",
       "    </tr>\n",
       "    <tr>\n",
       "      <th>2</th>\n",
       "      <td>1</td>\n",
       "      <td>0</td>\n",
       "      <td>0</td>\n",
       "      <td>0</td>\n",
       "      <td>1</td>\n",
       "      <td>1</td>\n",
       "      <td>1</td>\n",
       "      <td>1</td>\n",
       "      <td>0</td>\n",
       "      <td>0</td>\n",
       "    </tr>\n",
       "    <tr>\n",
       "      <th>3</th>\n",
       "      <td>0</td>\n",
       "      <td>0</td>\n",
       "      <td>0</td>\n",
       "      <td>0</td>\n",
       "      <td>0</td>\n",
       "      <td>0</td>\n",
       "      <td>0</td>\n",
       "      <td>0</td>\n",
       "      <td>0</td>\n",
       "      <td>1</td>\n",
       "    </tr>\n",
       "    <tr>\n",
       "      <th>4</th>\n",
       "      <td>0</td>\n",
       "      <td>0</td>\n",
       "      <td>0</td>\n",
       "      <td>1</td>\n",
       "      <td>0</td>\n",
       "      <td>0</td>\n",
       "      <td>1</td>\n",
       "      <td>0</td>\n",
       "      <td>0</td>\n",
       "      <td>0</td>\n",
       "    </tr>\n",
       "  </tbody>\n",
       "</table>\n",
       "</div>"
      ],
      "text/plain": [
       "   Smoking_Yes  AlcoholDrinking_Yes  Stroke_Yes  DiffWalking_Yes  Sex_Male  \\\n",
       "0            1                    0           0                0         0   \n",
       "1            0                    0           1                0         0   \n",
       "2            1                    0           0                0         1   \n",
       "3            0                    0           0                0         0   \n",
       "4            0                    0           0                1         0   \n",
       "\n",
       "   Diabetic_Yes  PhysicalActivity_Yes  Asthma_Yes  KidneyDisease_Yes  \\\n",
       "0             1                     1           1                  0   \n",
       "1             0                     1           0                  0   \n",
       "2             1                     1           1                  0   \n",
       "3             0                     0           0                  0   \n",
       "4             0                     1           0                  0   \n",
       "\n",
       "   SkinCancer_Yes  \n",
       "0               1  \n",
       "1               0  \n",
       "2               0  \n",
       "3               1  \n",
       "4               0  "
      ]
     },
     "execution_count": 43,
     "metadata": {},
     "output_type": "execute_result"
    }
   ],
   "source": [
    "cat_data.head()"
   ]
  },
  {
   "cell_type": "code",
   "execution_count": 46,
   "id": "93e87088",
   "metadata": {},
   "outputs": [
    {
     "data": {
      "text/plain": [
       "Index(['HeartDisease', 'BMI', 'PhysicalHealth', 'MentalHealth', 'AgeCategory',\n",
       "       'Race', 'GenHealth', 'SleepTime'],\n",
       "      dtype='object')"
      ]
     },
     "execution_count": 46,
     "metadata": {},
     "output_type": "execute_result"
    }
   ],
   "source": [
    "cont_features = df2.select_dtypes(include=[int,float])\n",
    "cont_features.columns"
   ]
  },
  {
   "cell_type": "code",
   "execution_count": 47,
   "id": "634c6119",
   "metadata": {},
   "outputs": [
    {
     "data": {
      "text/plain": [
       "(301717, 8)"
      ]
     },
     "execution_count": 47,
     "metadata": {},
     "output_type": "execute_result"
    }
   ],
   "source": [
    "cont_features.shape"
   ]
  },
  {
   "cell_type": "code",
   "execution_count": 48,
   "id": "2d4aff8b",
   "metadata": {},
   "outputs": [
    {
     "data": {
      "text/html": [
       "<div>\n",
       "<style scoped>\n",
       "    .dataframe tbody tr th:only-of-type {\n",
       "        vertical-align: middle;\n",
       "    }\n",
       "\n",
       "    .dataframe tbody tr th {\n",
       "        vertical-align: top;\n",
       "    }\n",
       "\n",
       "    .dataframe thead th {\n",
       "        text-align: right;\n",
       "    }\n",
       "</style>\n",
       "<table border=\"1\" class=\"dataframe\">\n",
       "  <thead>\n",
       "    <tr style=\"text-align: right;\">\n",
       "      <th></th>\n",
       "      <th>HeartDisease</th>\n",
       "      <th>BMI</th>\n",
       "      <th>PhysicalHealth</th>\n",
       "      <th>MentalHealth</th>\n",
       "      <th>AgeCategory</th>\n",
       "      <th>Race</th>\n",
       "      <th>GenHealth</th>\n",
       "      <th>SleepTime</th>\n",
       "    </tr>\n",
       "  </thead>\n",
       "  <tbody>\n",
       "    <tr>\n",
       "      <th>0</th>\n",
       "      <td>0</td>\n",
       "      <td>16.60</td>\n",
       "      <td>3.0</td>\n",
       "      <td>30.0</td>\n",
       "      <td>7</td>\n",
       "      <td>5</td>\n",
       "      <td>4</td>\n",
       "      <td>5.0</td>\n",
       "    </tr>\n",
       "    <tr>\n",
       "      <th>1</th>\n",
       "      <td>0</td>\n",
       "      <td>20.34</td>\n",
       "      <td>0.0</td>\n",
       "      <td>0.0</td>\n",
       "      <td>12</td>\n",
       "      <td>5</td>\n",
       "      <td>4</td>\n",
       "      <td>7.0</td>\n",
       "    </tr>\n",
       "    <tr>\n",
       "      <th>2</th>\n",
       "      <td>0</td>\n",
       "      <td>26.58</td>\n",
       "      <td>20.0</td>\n",
       "      <td>30.0</td>\n",
       "      <td>9</td>\n",
       "      <td>5</td>\n",
       "      <td>1</td>\n",
       "      <td>8.0</td>\n",
       "    </tr>\n",
       "    <tr>\n",
       "      <th>3</th>\n",
       "      <td>0</td>\n",
       "      <td>24.21</td>\n",
       "      <td>0.0</td>\n",
       "      <td>0.0</td>\n",
       "      <td>11</td>\n",
       "      <td>5</td>\n",
       "      <td>2</td>\n",
       "      <td>6.0</td>\n",
       "    </tr>\n",
       "    <tr>\n",
       "      <th>4</th>\n",
       "      <td>0</td>\n",
       "      <td>23.71</td>\n",
       "      <td>28.0</td>\n",
       "      <td>0.0</td>\n",
       "      <td>4</td>\n",
       "      <td>5</td>\n",
       "      <td>4</td>\n",
       "      <td>8.0</td>\n",
       "    </tr>\n",
       "  </tbody>\n",
       "</table>\n",
       "</div>"
      ],
      "text/plain": [
       "   HeartDisease    BMI  PhysicalHealth  MentalHealth  AgeCategory  Race  \\\n",
       "0             0  16.60             3.0          30.0            7     5   \n",
       "1             0  20.34             0.0           0.0           12     5   \n",
       "2             0  26.58            20.0          30.0            9     5   \n",
       "3             0  24.21             0.0           0.0           11     5   \n",
       "4             0  23.71            28.0           0.0            4     5   \n",
       "\n",
       "   GenHealth  SleepTime  \n",
       "0          4        5.0  \n",
       "1          4        7.0  \n",
       "2          1        8.0  \n",
       "3          2        6.0  \n",
       "4          4        8.0  "
      ]
     },
     "execution_count": 48,
     "metadata": {},
     "output_type": "execute_result"
    }
   ],
   "source": [
    "cont_features.head()"
   ]
  },
  {
   "cell_type": "markdown",
   "id": "ddb3a715",
   "metadata": {
    "id": "ddb3a715"
   },
   "source": [
    "### 12. Store the target column (i.e.'HeartDisease') in the y variable and the rest of the columns in the X variable."
   ]
  },
  {
   "cell_type": "code",
   "execution_count": 50,
   "id": "9628128c",
   "metadata": {
    "id": "9628128c"
   },
   "outputs": [],
   "source": [
    "X = final_df.drop('HeartDisease', axis=1)\n",
    "Y = final_df['HeartDisease']"
   ]
  },
  {
   "cell_type": "markdown",
   "id": "68db6b1e",
   "metadata": {
    "id": "68db6b1e"
   },
   "source": [
    "### 13. Split the dataset into two parts (i.e. 70% train and 30% test) and print the shape of the train and test data"
   ]
  },
  {
   "cell_type": "code",
   "execution_count": 58,
   "id": "0077d21b",
   "metadata": {
    "id": "0077d21b"
   },
   "outputs": [
    {
     "name": "stdout",
     "output_type": "stream",
     "text": [
      "(211201, 17) (90516, 17)\n",
      "(211201,) (90516,)\n"
     ]
    }
   ],
   "source": [
    "X_train, X_test, Y_train, Y_test, = train_test_split(X, Y, test_size=0.30, random_state=1)\n",
    "print(X_train.shape,X_test.shape)\n",
    "print(Y_train.shape,Y_test.shape)"
   ]
  },
  {
   "cell_type": "markdown",
   "id": "495ea012",
   "metadata": {
    "id": "495ea012"
   },
   "source": [
    "### 14. Standardize the numerical columns using Standard Scalar approach for both train and test data."
   ]
  },
  {
   "cell_type": "code",
   "execution_count": 62,
   "id": "6b85104e",
   "metadata": {},
   "outputs": [
    {
     "ename": "AttributeError",
     "evalue": "'numpy.ndarray' object has no attribute 'iloc'",
     "output_type": "error",
     "traceback": [
      "\u001b[1;31m---------------------------------------------------------------------------\u001b[0m",
      "\u001b[1;31mAttributeError\u001b[0m                            Traceback (most recent call last)",
      "Cell \u001b[1;32mIn[62], line 3\u001b[0m\n\u001b[0;32m      1\u001b[0m ss \u001b[38;5;241m=\u001b[39m StandardScaler()\n\u001b[1;32m----> 3\u001b[0m X_train \u001b[38;5;241m=\u001b[39m ss\u001b[38;5;241m.\u001b[39mfit_transform(\u001b[43mX_train\u001b[49m\u001b[38;5;241;43m.\u001b[39;49m\u001b[43miloc\u001b[49m[:,:])\n\u001b[0;32m      4\u001b[0m X_test \u001b[38;5;241m=\u001b[39m ss\u001b[38;5;241m.\u001b[39mtransform(X_test\u001b[38;5;241m.\u001b[39miloc[:,:])\n",
      "\u001b[1;31mAttributeError\u001b[0m: 'numpy.ndarray' object has no attribute 'iloc'"
     ]
    }
   ],
   "source": [
    "ss = StandardScaler()\n",
    "\n",
    "X_train = ss.fit_transform(X_train.iloc[:,:])\n",
    "X_test = ss.transform(X_test.iloc[:,:])"
   ]
  },
  {
   "cell_type": "markdown",
   "id": "84d0e4a4",
   "metadata": {
    "id": "84d0e4a4"
   },
   "source": [
    "### 15. Write a function.\n",
    "- i) Which can take the model and data as inputs.\n",
    "- ii) Fits the model with the train data.\n",
    "- iii) Makes predictions on the test set.\n",
    "- iv) Returns the Accuracy Score."
   ]
  },
  {
   "cell_type": "code",
   "execution_count": 63,
   "id": "e02c8c82",
   "metadata": {
    "id": "e02c8c82"
   },
   "outputs": [],
   "source": [
    "def run_model(model, X_train, X_test, Y_train, Y_test):\n",
    "    model.fit(X_train, Y_train)\n",
    "    pred = model.predict(X_test)\n",
    "    accuracy = accuracy_score(Y_test, pred)\n",
    "    return accuracy"
   ]
  },
  {
   "cell_type": "markdown",
   "id": "e709b9d4",
   "metadata": {
    "id": "e709b9d4"
   },
   "source": [
    "### 16. Use the function and train a Logistic regression, KNN, Naive Bayes, Decision tree, Random Forest, Adaboost, GradientBoost, and Stacked Classifier models and make predictions on test data and evaluate the models, compare and write your conclusions and steps to be taken in future in order to improve the accuracy of the model."
   ]
  },
  {
   "cell_type": "code",
   "execution_count": 64,
   "id": "a63e0e03",
   "metadata": {
    "id": "a63e0e03"
   },
   "outputs": [],
   "source": [
    "lr = LogisticRegression()\n",
    "nb = GaussianNB()\n",
    "knn = KNeighborsClassifier()\n",
    "dt = DecisionTreeClassifier()\n",
    "rf = RandomForestClassifier()\n",
    "adb = AdaBoostClassifier()\n",
    "gb = GradientBoostingClassifier()\n",
    "\n",
    "estimators = [('rf', rf),('knn', knn), ('gb', gb), ('adb', adb)]\n",
    "sc = StackingClassifier(estimators = estimators, final_estimator=rf)"
   ]
  },
  {
   "cell_type": "code",
   "execution_count": null,
   "id": "599f27d1",
   "metadata": {},
   "outputs": [],
   "source": [
    "result = pd.DataFrame(columns = ['Accuracy'])\n",
    "\n",
    "for model, model_name in zip([lr, nb, knn, dt, rf, adb, gb, sc],\n",
    "                            ['Logistic Regression', 'Naive Bayes', 'KNN', 'Decision Tree', \n",
    "                             'Random Forest', 'Ada Boost', 'Gradient Boost', 'Stacking']):\n",
    "    result.loc[model_name] = run_model(model, X_train, X_test, Y_train, Y_test)"
   ]
  },
  {
   "cell_type": "code",
   "execution_count": null,
   "id": "43e68df6",
   "metadata": {},
   "outputs": [],
   "source": [
    "result.head()"
   ]
  },
  {
   "cell_type": "markdown",
   "id": "K5f-IKPLV3bN",
   "metadata": {
    "id": "K5f-IKPLV3bN"
   },
   "source": [
    "### Conclusion"
   ]
  },
  {
   "cell_type": "code",
   "execution_count": null,
   "id": "e18c82e0",
   "metadata": {
    "id": "e18c82e0"
   },
   "outputs": [],
   "source": [
    "Males are more prone to having heart disease than Females."
   ]
  },
  {
   "cell_type": "markdown",
   "id": "515596d0",
   "metadata": {
    "id": "515596d0"
   },
   "source": [
    "----\n",
    "## Happy Learning:)\n",
    "----"
   ]
  }
 ],
 "metadata": {
  "colab": {
   "collapsed_sections": [],
   "name": "Supervised Learning - Lab Session .ipynb",
   "provenance": []
  },
  "kernelspec": {
   "display_name": "Python 3 (ipykernel)",
   "language": "python",
   "name": "python3"
  },
  "language_info": {
   "codemirror_mode": {
    "name": "ipython",
    "version": 3
   },
   "file_extension": ".py",
   "mimetype": "text/x-python",
   "name": "python",
   "nbconvert_exporter": "python",
   "pygments_lexer": "ipython3",
   "version": "3.11.2"
  }
 },
 "nbformat": 4,
 "nbformat_minor": 5
}
